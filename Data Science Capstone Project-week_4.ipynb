{
 "cells": [
  {
   "cell_type": "markdown",
   "metadata": {},
   "source": [
    "## Exploring the Historical Districts of Istanbul to Create a Historical Travel Planner"
   ]
  },
  {
   "cell_type": "markdown",
   "metadata": {},
   "source": [
    "### 1. Introduction"
   ]
  },
  {
   "cell_type": "markdown",
   "metadata": {},
   "source": [
    "##### 1.1 Background"
   ]
  },
  {
   "cell_type": "markdown",
   "metadata": {},
   "source": [
    "Istanbul is a major city in Turkey that straddles Europe and Asia across the Bosphorus Strait. Its Old City reflects cultural influences of the many empires that once ruled here. In the Sultanahmet district, the open air , Roman-era Hippodrome was for centuries the site of chariot races, and Egyption obelisks also remain. The iconic Byzantine Hagia Sophia features a soar"
   ]
  },
  {
   "cell_type": "markdown",
   "metadata": {},
   "source": [
    "##### 1.2 Problem"
   ]
  },
  {
   "cell_type": "markdown",
   "metadata": {},
   "source": [
    "Travelling  to a city as historical and exciting as Istanbul can be overwhelming. Utilizing a planner can maximize \n",
    "valuable time, priotrize must-see historical places and plan for easier and faster traveln between attractions. This \n",
    "project aims to create an efficient travel planner that saves time, includes must-see attractions, and make suggestions\n",
    "for what to see taking into account distance, time and location."
   ]
  },
  {
   "cell_type": "markdown",
   "metadata": {},
   "source": [
    "##### 1.3 Interest"
   ]
  },
  {
   "cell_type": "markdown",
   "metadata": {},
   "source": [
    "Millions of visitors make the pilgrimage to Istanul every year to visit its historical attractions. These visitors\n",
    "would be interested in the results of this project for their visit to Istanbul. Even Istanbul population can find\n",
    "benefits for exploring their hometown or a new arrondissement with the results of our analysis using location data."
   ]
  }
 ],
 "metadata": {
  "kernelspec": {
   "display_name": "Python 3",
   "language": "python",
   "name": "python3"
  },
  "language_info": {
   "codemirror_mode": {
    "name": "ipython",
    "version": 3
   },
   "file_extension": ".py",
   "mimetype": "text/x-python",
   "name": "python",
   "nbconvert_exporter": "python",
   "pygments_lexer": "ipython3",
   "version": "3.7.1"
  }
 },
 "nbformat": 4,
 "nbformat_minor": 2
}
